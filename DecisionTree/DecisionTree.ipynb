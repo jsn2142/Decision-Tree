{
 "cells": [
  {
   "cell_type": "code",
   "execution_count": 8,
   "metadata": {},
   "outputs": [
    {
     "name": "stdout",
     "output_type": "stream",
     "text": [
      "Values of rating after conversion: \n",
      "[0 1 1 ... 1 0 1]\n"
     ]
    }
   ],
   "source": [
    "import numpy as np\n",
    "import pandas as pd \n",
    "import os\n",
    "\n",
    "dataset = pd.read_csv(\"ratings_small.csv\") \n",
    "\n",
    "dataset[\"ratingNew\"]=np.where(dataset[\"rating\"]<=2.5,0,1)\n",
    "dataset=dataset[[\n",
    "    \"userId\",\n",
    "    \"movieId\",\n",
    "    \"ratingNew\"\n",
    "]].dropna(axis=0, how='any') \n",
    " \n",
    "X = dataset.iloc[:, 0:2].values  \n",
    "y = dataset.iloc[:, 2].values \n",
    "print(\"Values of rating after conversion: \")\n",
    "print(y)\n",
    "X=dataset.drop('ratingNew',axis=1)\n",
    "y=dataset['ratingNew']"
   ]
  },
  {
   "cell_type": "code",
   "execution_count": 13,
   "metadata": {
    "scrolled": true
   },
   "outputs": [
    {
     "name": "stdout",
     "output_type": "stream",
     "text": [
      "[[ 1856  4040]\n",
      " [ 4115 22991]]\n",
      "              precision    recall  f1-score   support\n",
      "\n",
      "           0       0.31      0.31      0.31      5896\n",
      "           1       0.85      0.85      0.85     27106\n",
      "\n",
      "   micro avg       0.75      0.75      0.75     33002\n",
      "   macro avg       0.58      0.58      0.58     33002\n",
      "weighted avg       0.75      0.75      0.75     33002\n",
      "\n",
      "Accuracy: \n",
      "75.29 %\n"
     ]
    }
   ],
   "source": [
    "from sklearn.model_selection import train_test_split\n",
    "X_train,X_test,y_train,y_test=train_test_split(X,y,test_size=.33)\n",
    "\n",
    "from sklearn.tree import DecisionTreeClassifier\n",
    "classifier=DecisionTreeClassifier()\n",
    "classifier.fit(X_train,y_train)\n",
    "\n",
    "predict_y=classifier.predict(X_test)\n",
    "\n",
    "# precision, recall, f1-score, support\n",
    "from sklearn.metrics import classification_report,confusion_matrix,accuracy_score\n",
    "print(confusion_matrix(y_test,predict_y))\n",
    "print(classification_report(y_test,predict_y))\n",
    "print(\"Accuracy: \")\n",
    "print(round(accuracy_score(y_test,predict_y)*100,2),'%')"
   ]
  },
  {
   "cell_type": "code",
   "execution_count": 14,
   "metadata": {},
   "outputs": [
    {
     "name": "stdout",
     "output_type": "stream",
     "text": [
      "Showing the predicted values for ratingNew: \n",
      "[0 1 1 ... 0 1 1]\n"
     ]
    }
   ],
   "source": [
    "print(\"Showing the predicted values for ratingNew: \")\n",
    "print(predict_y)"
   ]
  },
  {
   "cell_type": "code",
   "execution_count": null,
   "metadata": {},
   "outputs": [],
   "source": []
  }
 ],
 "metadata": {
  "kernelspec": {
   "display_name": "Python 3",
   "language": "python",
   "name": "python3"
  },
  "language_info": {
   "codemirror_mode": {
    "name": "ipython",
    "version": 3
   },
   "file_extension": ".py",
   "mimetype": "text/x-python",
   "name": "python",
   "nbconvert_exporter": "python",
   "pygments_lexer": "ipython3",
   "version": "3.7.1"
  }
 },
 "nbformat": 4,
 "nbformat_minor": 2
}
